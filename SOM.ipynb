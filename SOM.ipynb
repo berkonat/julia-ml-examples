{
 "cells": [
  {
   "cell_type": "code",
   "execution_count": 1,
   "metadata": {},
   "outputs": [],
   "source": [
    "using Distances\n",
    "using PyPlot"
   ]
  },
  {
   "cell_type": "code",
   "execution_count": 2,
   "metadata": {},
   "outputs": [
    {
     "data": {
      "text/plain": [
       "train (generic function with 1 method)"
      ]
     },
     "execution_count": 2,
     "metadata": {},
     "output_type": "execute_result"
    }
   ],
   "source": [
    "# This function generates an Array that holds the positions of neurons\n",
    "function neuron_locations(m,n)\n",
    "    x = Array{Int64}(m*n,2)\n",
    "    c = 1\n",
    "    for i=1:m\n",
    "        for j=1:n\n",
    "            x[c,1]=i\n",
    "            x[c,2]=j\n",
    "            c+=1\n",
    "        end\n",
    "    end\n",
    "    return x\n",
    "end\n",
    "\n",
    "#function map_vects(input_vects, weights, locations)\n",
    "#    a = Array{Int}[]\n",
    "#    for vect in input_vects\n",
    "#        vdist = mapslices(norm, vect-weights[:], dims=1)\n",
    "#        vval, vmin = findmin(vdist)\n",
    "#        push!(a, locations[vmin])\n",
    "#    end\n",
    "#    return a\n",
    "#end\n",
    "\n",
    "function train(x, w, it, niter, dim, alpha, sigma, locations)\n",
    "    stack_x = copy(x)\n",
    "    for i in 1:m*n-1\n",
    "        stack_x = vcat(stack_x, x)\n",
    "    end\n",
    "    dists = colwise(Euclidean(), stack_x', w')\n",
    "    bmu_val, bmu_index = findmin(dists)\n",
    "    bmu_loc = locations[bmu_index,:]\n",
    "\n",
    "    # linearly decreasing learning rate\n",
    "    learning_rate_op = 1.0 - it/niter\n",
    "    alpha_op = alpha * learning_rate_op\n",
    "    sigma_op = sigma * learning_rate_op\n",
    "    \n",
    "    bmu_sq = (locations' .- bmu_loc).^2\n",
    "    bmu_distance_squares = sum(bmu_sq', 2)\n",
    "    # Gaussian Neighbourhood function\n",
    "    neighbourhood_func = exp.(-bmu_distance_squares/(sigma_op^2))\n",
    "    \n",
    "    learning_rate_op = alpha_op * neighbourhood_func\n",
    "    res = fill(learning_rate_op[1],dim)\n",
    "    for i in 2:m*n\n",
    "        res = hcat(res, fill(learning_rate_op[i],dim))\n",
    "    end\n",
    "    learning_rate_multiplier = res\n",
    "    #print(size(learning_rate_multiplier),size(stack_x),size(w))\n",
    "    delta = learning_rate_multiplier' .* (stack_x .- w)\n",
    "    #print(size(delta))\n",
    "    return w + delta\n",
    "end"
   ]
  },
  {
   "cell_type": "code",
   "execution_count": 11,
   "metadata": {},
   "outputs": [
    {
     "data": {
      "text/plain": [
       "SOM (generic function with 2 methods)"
      ]
     },
     "execution_count": 11,
     "metadata": {},
     "output_type": "execute_result"
    }
   ],
   "source": [
    "function SOM(data, m, n, dim, niter, alpha=0.3):\n",
    "    \"\"\"\n",
    "    2-D Self-Organizing Map with Gaussian Neighbourhood function\n",
    "    and linearly decreasing learning rate.\n",
    "    \"\"\"\n",
    "    sigma = max(m, n) / 2.0\n",
    "    weights = randn(m*n,dim)\n",
    "    locations = neuron_locations(m,n)\n",
    "\n",
    "    for iter_no=1:niter\n",
    "        #Train with each vector one by one\n",
    "        if iter_no%10==0\n",
    "            println(\"Training iteration: \",iter_no)\n",
    "        end\n",
    "        for i=1:size(data)[1]\n",
    "            weights = train(data[i,:]', weights, iter_no, niter, dim, alpha, sigma, locations)\n",
    "        end\n",
    "    end\n",
    "    #Store a centroid grid for easy retrieval later on\n",
    "    centroid_grid = zeros(m, n, dim)\n",
    "    for i=1:m*n\n",
    "        centroid_grid[locations[i,1],locations[i,2],:]=weights[i,:]\n",
    "    end\n",
    "    #println(\"Image Done!\")\n",
    "    #Map colours to their closest neurons\n",
    "    #mapped = map_vects(data, weights, locations)\n",
    "    #mapped = 1\n",
    "    \n",
    "    return centroid_grid\n",
    "end"
   ]
  },
  {
   "cell_type": "code",
   "execution_count": 12,
   "metadata": {},
   "outputs": [
    {
     "data": {
      "text/plain": [
       "7-element Array{String,1}:\n",
       " \"blue\"   \n",
       " \"skyblue\"\n",
       " \"lilac\"  \n",
       " \"green\"  \n",
       " \"red\"    \n",
       " \"cyan\"   \n",
       " \"violet\" "
      ]
     },
     "execution_count": 12,
     "metadata": {},
     "output_type": "execute_result"
    }
   ],
   "source": [
    "#Training inputs for RGBcolors\n",
    "#colors = [[0. 0. 0.];\n",
    "#    [0. 0. 1.];\n",
    "#    [0. 0. 0.5];\n",
    "#    [0.125 0.529 1.0];\n",
    "#    [0.33 0.4 0.67];\n",
    "#    [0.6 0.5 1.0];\n",
    "#    [0. 1. 0.];\n",
    "#    [1. 0. 0.];\n",
    "#    [0. 1. 1.];\n",
    "#    [1. 0. 1.];\n",
    "#    [1. 1. 0.];\n",
    "#    [1. 1. 1.];\n",
    "#    [.33 .33 .33];\n",
    "#    [.5 .5 .5];\n",
    "#    [.66 .66 .66]]\n",
    "#\n",
    "#color_names = [\"black\", \"blue\", \"darkblue\", \"skyblue\",\n",
    "#    \"greyblue\", \"lilac\", \"green\", \"red\",\n",
    "#    \"cyan\", \"violet\", \"yellow\", \"white\",\n",
    "#    \"darkgrey\", \"mediumgrey\", \"lightgrey\"]\n",
    "colors = [[0. 0. 1.];\n",
    "    [0.125 0.529 1.0];\n",
    "    [0.6 0.5 1.0];\n",
    "    [0. 1. 0.];\n",
    "    [1. 0. 0.];\n",
    "    [0. 1. 1.];\n",
    "    [1. 0. 1.]]\n",
    "\n",
    "color_names = [\"blue\", \"skyblue\",\n",
    "    \"lilac\", \"green\", \"red\",\n",
    "    \"cyan\", \"violet\"]"
   ]
  },
  {
   "cell_type": "code",
   "execution_count": 19,
   "metadata": {},
   "outputs": [
    {
     "name": "stdout",
     "output_type": "stream",
     "text": [
      "Training iteration: 10\n",
      "Training iteration: 20\n",
      "Training iteration: 30\n",
      "Training iteration: 40\n",
      "Training iteration: 50\n",
      "Training iteration: 60\n",
      "Training iteration: 70\n",
      "Training iteration: 80\n",
      "Training iteration: 90\n",
      "Training iteration: 100\n",
      "Training is done.\n"
     ]
    }
   ],
   "source": [
    "#Train a 20x30 SOM with 200 iterations\n",
    "m = 20\n",
    "n = 30\n",
    "n_iter = 100\n",
    "image_grid = SOM(colors, m, n, 3, n_iter)\n",
    "println(\"Training is done.\")"
   ]
  },
  {
   "cell_type": "code",
   "execution_count": 20,
   "metadata": {},
   "outputs": [
    {
     "data": {
      "image/png": "[encoded data removed]",
      "text/plain": [
       "PyPlot.Figure(PyObject <Figure size 640x480 with 1 Axes>)"
      ]
     },
     "metadata": {},
     "output_type": "display_data"
    },
    {
     "data": {
      "text/plain": [
       "PyObject <matplotlib.image.AxesImage object at 0x2b2303e4d5f8>"
      ]
     },
     "execution_count": 20,
     "metadata": {},
     "output_type": "execute_result"
    }
   ],
   "source": [
    "imshow(image_grid)"
   ]
  },
  {
   "cell_type": "code",
   "execution_count": null,
   "metadata": {},
   "outputs": [],
   "source": []
  }
 ],
 "metadata": {
  "kernelspec": {
   "display_name": "Julia 0.6.4",
   "language": "julia",
   "name": "julia-0.6"
  },
  "language_info": {
   "file_extension": ".jl",
   "mimetype": "application/julia",
   "name": "julia",
   "version": "0.6.4"
  }
 },
 "nbformat": 4,
 "nbformat_minor": 2
}
